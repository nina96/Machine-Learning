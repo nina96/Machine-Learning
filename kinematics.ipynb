{
 "cells": [
  {
   "cell_type": "code",
   "execution_count": 2,
   "id": "5829c60d-a34d-47ca-a645-1c6f7632f0d6",
   "metadata": {},
   "outputs": [],
   "source": [
    "import pandas as pd\n",
    "import numpy as np\n",
    "import matplotlib.pyplot as plot\n",
    "import seaborn as sns\n",
    "%matplotlib inline"
   ]
  },
  {
   "cell_type": "code",
   "execution_count": 3,
   "id": "40879a60-1113-47e3-8d21-f52bcd7709a5",
   "metadata": {},
   "outputs": [],
   "source": [
    "df_kine=pd.read_csv(\"run_or_walk.csv\")"
   ]
  },
  {
   "cell_type": "markdown",
   "id": "0121a46f-7780-46fa-b0c0-cb8c265e082a",
   "metadata": {},
   "source": [
    "DESCRIPTION\n",
    "\n",
    "You are supposed to detect whether the person is running or walking based on the sensor data collected from iOS device. The dataset contains a single file which represents sensor data samples collected from accelerometer and gyroscope from iPhone 5c in 10 seconds interval and ~5.4/second frequency.\n",
    "\n",
    "Objective: Practice classification based on Naive Bayes algorithm. Identify the predictors that can be influential.\n",
    "\n",
    "Actions to Perform:\n",
    "\n",
    "1. Load the kinematics dataset as measured on mobile sensors from the file “run_or_walk.csv.”\n",
    "2. List the columns in the dataset.\n",
    "3. Let the target variable “y” be the activity, and assign all the columns after it to “x.”\n",
    "4. Using Scikit-learn, fit a Gaussian Naive Bayes model and observe the accuracy.\n",
    "5. Generate a classification report using Scikit-learn.\n",
    "6. Repeat the model once using only the acceleration values as predictors and then using only the gyro values as predictors.\n",
    "7. Comment on the difference in accuracy between both models."
   ]
  },
  {
   "cell_type": "code",
   "execution_count": 4,
   "id": "3185afbc-4120-4894-9c78-7529557779e4",
   "metadata": {},
   "outputs": [
    {
     "name": "stdout",
     "output_type": "stream",
     "text": [
      "<class 'pandas.core.frame.DataFrame'>\n",
      "RangeIndex: 88588 entries, 0 to 88587\n",
      "Data columns (total 11 columns):\n",
      " #   Column          Non-Null Count  Dtype  \n",
      "---  ------          --------------  -----  \n",
      " 0   date            88588 non-null  object \n",
      " 1   time            88588 non-null  object \n",
      " 2   username        88588 non-null  object \n",
      " 3   wrist           88588 non-null  int64  \n",
      " 4   activity        88588 non-null  int64  \n",
      " 5   acceleration_x  88588 non-null  float64\n",
      " 6   acceleration_y  88588 non-null  float64\n",
      " 7   acceleration_z  88588 non-null  float64\n",
      " 8   gyro_x          88588 non-null  float64\n",
      " 9   gyro_y          88588 non-null  float64\n",
      " 10  gyro_z          88588 non-null  float64\n",
      "dtypes: float64(6), int64(2), object(3)\n",
      "memory usage: 7.4+ MB\n"
     ]
    }
   ],
   "source": [
    "df_kine.info()"
   ]
  },
  {
   "cell_type": "code",
   "execution_count": 9,
   "id": "09083824-b245-4391-8855-be5ddc29d07f",
   "metadata": {},
   "outputs": [],
   "source": [
    "from sklearn.model_selection import train_test_split\n",
    "from sklearn.naive_bayes import GaussianNB\n",
    "from sklearn import metrics\n",
    "target=df_kine['activity']\n",
    "feature=df_kine.iloc[:,5:10]\n",
    "x_train,x_test,y_train,y_test=train_test_split(feature,target, random_state=1)"
   ]
  },
  {
   "cell_type": "code",
   "execution_count": 11,
   "id": "b9866239-825c-4ee3-8911-7a1675deccd8",
   "metadata": {},
   "outputs": [
    {
     "name": "stdout",
     "output_type": "stream",
     "text": [
      "0.954982616155687\n"
     ]
    }
   ],
   "source": [
    "gb=GaussianNB()\n",
    "gb.fit(x_train,y_train)\n",
    "y_pred=gb.predict(x_test)\n",
    "print(metrics.accuracy_score(y_test,y_pred))"
   ]
  },
  {
   "cell_type": "code",
   "execution_count": 12,
   "id": "ba394281-82eb-4cd0-af5b-98e79edb2098",
   "metadata": {},
   "outputs": [
    {
     "name": "stdout",
     "output_type": "stream",
     "text": [
      "[[10857    86]\n",
      " [  911 10293]]\n"
     ]
    }
   ],
   "source": [
    "print(metrics.confusion_matrix(y_test,y_pred))"
   ]
  },
  {
   "cell_type": "code",
   "execution_count": 13,
   "id": "f20fd4cb-5473-4608-8ce4-322fd1c15076",
   "metadata": {},
   "outputs": [
    {
     "name": "stdout",
     "output_type": "stream",
     "text": [
      "              precision    recall  f1-score   support\n",
      "\n",
      "           0       0.92      0.99      0.96     10943\n",
      "           1       0.99      0.92      0.95     11204\n",
      "\n",
      "    accuracy                           0.95     22147\n",
      "   macro avg       0.96      0.96      0.95     22147\n",
      "weighted avg       0.96      0.95      0.95     22147\n",
      "\n"
     ]
    }
   ],
   "source": [
    "print(metrics.classification_report(y_test,y_pred))"
   ]
  },
  {
   "cell_type": "code",
   "execution_count": 20,
   "id": "08e54322-f2b0-42ff-baef-c268069ca0ce",
   "metadata": {},
   "outputs": [
    {
     "name": "stdout",
     "output_type": "stream",
     "text": [
      "accuracy_score: 0.8949293358016888 \n",
      "\n",
      "confusion matrix:\n",
      " [[10804   139]\n",
      " [ 2188  9016]] \n",
      "\n",
      "classification report:\n",
      "               precision    recall  f1-score   support\n",
      "\n",
      "           0       0.83      0.99      0.90     10943\n",
      "           1       0.98      0.80      0.89     11204\n",
      "\n",
      "    accuracy                           0.89     22147\n",
      "   macro avg       0.91      0.90      0.89     22147\n",
      "weighted avg       0.91      0.89      0.89     22147\n",
      "\n"
     ]
    }
   ],
   "source": [
    "feature_acc=df_kine.iloc[:,5:7]\n",
    "x_train,x_test,y_train,y_test=train_test_split(feature_acc,target, random_state=1)\n",
    "gb=GaussianNB()\n",
    "gb.fit(x_train,y_train)\n",
    "y_pred_acc=gb.predict(x_test)\n",
    "print(\"accuracy_score:\",metrics.accuracy_score(y_test,y_pred_acc),\"\\n\")\n",
    "print(\"confusion matrix:\\n\",metrics.confusion_matrix(y_test,y_pred_acc),\"\\n\")\n",
    "print(\"classification report:\\n\",metrics.classification_report(y_test,y_pred_acc))"
   ]
  },
  {
   "cell_type": "code",
   "execution_count": 22,
   "id": "72437968-5e1b-42f7-b1a3-ac20236705b2",
   "metadata": {},
   "outputs": [
    {
     "name": "stdout",
     "output_type": "stream",
     "text": [
      "accuracy_score: 0.5738474736984693 \n",
      "\n",
      "confusion matrix:\n",
      " [[7905 3038]\n",
      " [6400 4804]] \n",
      "\n",
      "classification report:\n",
      "               precision    recall  f1-score   support\n",
      "\n",
      "           0       0.55      0.72      0.63     10943\n",
      "           1       0.61      0.43      0.50     11204\n",
      "\n",
      "    accuracy                           0.57     22147\n",
      "   macro avg       0.58      0.58      0.57     22147\n",
      "weighted avg       0.58      0.57      0.56     22147\n",
      "\n"
     ]
    }
   ],
   "source": [
    "feature_gyro=df_kine.iloc[:,8:10]\n",
    "x_train,x_test,y_train,y_test=train_test_split(feature_gyro,target, random_state=1)\n",
    "gb=GaussianNB()\n",
    "gb.fit(x_train,y_train)\n",
    "y_pred_gyro=gb.predict(x_test)\n",
    "print(\"accuracy_score:\",metrics.accuracy_score(y_test,y_pred_gyro),\"\\n\")\n",
    "print(\"confusion matrix:\\n\",metrics.confusion_matrix(y_test,y_pred_gyro),\"\\n\")\n",
    "print(\"classification report:\\n\",metrics.classification_report(y_test,y_pred_gyro))"
   ]
  },
  {
   "cell_type": "markdown",
   "id": "e4c7ffb6-31aa-42c7-825c-3d270105457f",
   "metadata": {},
   "source": [
    "### comparision between acceleration and gyro:\n",
    "<p> As I have noticed acceleration is more helpful to tell whether the activity is run or walk. Gyro is angular velocity which is not that great in differentiating the activity."
   ]
  },
  {
   "cell_type": "code",
   "execution_count": null,
   "id": "53f78e80-59e9-4323-b90c-4dac769714b9",
   "metadata": {},
   "outputs": [],
   "source": []
  }
 ],
 "metadata": {
  "kernelspec": {
   "display_name": "Python 3 (ipykernel)",
   "language": "python",
   "name": "python3"
  },
  "language_info": {
   "codemirror_mode": {
    "name": "ipython",
    "version": 3
   },
   "file_extension": ".py",
   "mimetype": "text/x-python",
   "name": "python",
   "nbconvert_exporter": "python",
   "pygments_lexer": "ipython3",
   "version": "3.9.7"
  }
 },
 "nbformat": 4,
 "nbformat_minor": 5
}
